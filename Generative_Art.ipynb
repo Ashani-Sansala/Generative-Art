{
 "cells": [
  {
   "cell_type": "markdown",
   "id": "83d71ff2",
   "metadata": {},
   "source": [
    "# Generative Art with Python"
   ]
  },
  {
   "cell_type": "markdown",
   "id": "b65aed5b",
   "metadata": {},
   "source": [
    "## Assignment 03 - 215533M"
   ]
  },
  {
   "cell_type": "markdown",
   "id": "2c99bf78",
   "metadata": {},
   "source": [
    "Here I am trying to create a generative art piece for a night sky that contains a moon and stars. For that I use python libraries such as pygame, numpy, random and matplotlib. "
   ]
  },
  {
   "cell_type": "code",
   "execution_count": 1,
   "id": "e8df12fd",
   "metadata": {},
   "outputs": [
    {
     "name": "stdout",
     "output_type": "stream",
     "text": [
      "pygame 2.3.0 (SDL 2.24.2, Python 3.9.12)\n",
      "Hello from the pygame community. https://www.pygame.org/contribute.html\n"
     ]
    }
   ],
   "source": [
    "# import python libraries \n",
    "import pygame\n",
    "import numpy as np\n",
    "import random\n",
    "import matplotlib.pyplot as plt"
   ]
  },
  {
   "cell_type": "code",
   "execution_count": 2,
   "id": "e89cb7f1",
   "metadata": {},
   "outputs": [],
   "source": [
    "# Initialize pygame library\n",
    "pygame.init()\n",
    "\n",
    "# Set the size of the screen\n",
    "width, height = 800, 800\n",
    "screen = pygame.display.set_mode((width, height))"
   ]
  },
  {
   "cell_type": "markdown",
   "id": "12df95f8",
   "metadata": {},
   "source": [
    "Here pygame library is initialized and set the width and height of the screen which should be displayed to 800 pixels each. "
   ]
  },
  {
   "cell_type": "code",
   "execution_count": 3,
   "id": "c6654a50",
   "metadata": {},
   "outputs": [],
   "source": [
    "# Define variables and constants\n",
    "\n",
    "# Number of crosses to be included\n",
    "num_cross = 200  \n",
    "\n",
    "# Size of each cross\n",
    "cross_size = 10   \n",
    "\n",
    "# List of colors to use for crosses\n",
    "cross_colors = [(255, 255, 255),(255, 215, 0),(255, 165, 0),(218, 112, 214),(255, 235, 59)]\n",
    "\n",
    "# Radius of the moon\n",
    "moon_radius = 100  \n",
    "\n",
    "# Color of the moon\n",
    "moon_color = (255, 235, 59)  \n",
    "\n",
    "# Number of stars \n",
    "num_stars = 20  \n",
    "\n",
    "# Color of the stars\n",
    "star_color = (255, 255, 255)  \n",
    "\n",
    "# Size of each star\n",
    "star_size = 3  \n",
    "\n",
    "# background color of the art\n",
    "background_color = (7, 11, 52)"
   ]
  },
  {
   "cell_type": "markdown",
   "id": "a3686032",
   "metadata": {},
   "source": [
    "The variables and constants are initialized. "
   ]
  },
  {
   "cell_type": "code",
   "execution_count": 4,
   "id": "f655ffe5",
   "metadata": {},
   "outputs": [],
   "source": [
    "# Generate random positions for crosses\n",
    "cross_pos = np.random.randint(0, width, size=(num_cross, 2))"
   ]
  },
  {
   "cell_type": "markdown",
   "id": "607be411",
   "metadata": {},
   "source": [
    "Here I generate random positions for crosses using 'np.random.randint()' function in numpy library. It generates random integers within a specified range. Here it generates random x and y coordinates and form '0' to 'width' which is the width of the screen.\n",
    "\n",
    "This function returns a 2D array num_cross rows and 2 columns. Each row contains x, y  coordinates for a single cross."
   ]
  },
  {
   "cell_type": "code",
   "execution_count": 5,
   "id": "9c639296",
   "metadata": {},
   "outputs": [],
   "source": [
    "# Create an empty image\n",
    "sky_image = np.full((width, height, 3), background_color, dtype=np.uint8)"
   ]
  },
  {
   "cell_type": "markdown",
   "id": "c8240544",
   "metadata": {},
   "source": [
    "This creates an empty image with specified dimensions 'width' and 'height' and fills it with background color of 'Cetacean Blue'."
   ]
  },
  {
   "cell_type": "code",
   "execution_count": 6,
   "id": "1e89f061",
   "metadata": {},
   "outputs": [],
   "source": [
    "# Draw crosses on the empty image\n",
    "for i in range(num_cross):\n",
    "    x, y = cross_pos[i]\n",
    "    color = random.choice(cross_colors)\n",
    "    \n",
    "    # Draw the horizontal line of the cross\n",
    "    sky_image[x-cross_size : x+cross_size , y, :] = color\n",
    "    \n",
    "    # Draw the vertical line of the cross\n",
    "    sky_image[x, y-cross_size : y+cross_size , :] = color"
   ]
  },
  {
   "cell_type": "markdown",
   "id": "89be0f3c",
   "metadata": {},
   "source": [
    "Here draws the crosses at each position by iterating the coordinates by selecting a random color from 'cross_colors' list. The size of each cross is 'cross_size'."
   ]
  },
  {
   "cell_type": "code",
   "execution_count": 7,
   "id": "b9ee1981",
   "metadata": {},
   "outputs": [],
   "source": [
    "# Draw the stars\n",
    "for i in range(1, num_cross//2):\n",
    "    x, y = cross_pos[i]\n",
    "    sky_image[x-star_size : x+star_size, y-star_size : y+star_size, :] = star_color"
   ]
  },
  {
   "cell_type": "markdown",
   "id": "af9aeabb",
   "metadata": {},
   "source": [
    "Using a foor loop I draw stars on the generated sky_image. In each iteration it gets x,y coordinate pair from the 'cross_pos' list. It sets the pixels within a square region at the coordinate position to star_color value using size of the star."
   ]
  },
  {
   "cell_type": "code",
   "execution_count": 8,
   "id": "b1022bb2",
   "metadata": {},
   "outputs": [],
   "source": [
    "# Draw the moon\n",
    "moon_x, moon_y = width - moon_radius - 500, moon_radius + 200\n",
    "for x in range(width):\n",
    "    for y in range(height):\n",
    "        if np.sqrt((x-moon_x)**2 + (y-moon_y)**2) <= moon_radius:\n",
    "            sky_image[x, y, :] = moon_color\n",
    "            "
   ]
  },
  {
   "cell_type": "markdown",
   "id": "5d3020a8",
   "metadata": {},
   "source": [
    "Here I draw a yellow circle on the image as the moon. Location of the moon is determined using moon radius and the width of the image.\n",
    "\n",
    "If statement checks if the distance between the current pixel and the center of the moon is less than or equal to the radius of the moon. (np.sqrt((x-moon_x) ** 2 + (y-moon_y) ** 2)). \n",
    "\n",
    "If this condition is true, the pixel's color is set to the moon color (image[x, y, :] = moon_color)."
   ]
  },
  {
   "cell_type": "code",
   "execution_count": 9,
   "id": "f4eafba0",
   "metadata": {},
   "outputs": [],
   "source": [
    "# Draw a shadow circle to hide a part of the moon\n",
    "moon_x, moon_y = width - moon_radius - 550, moon_radius + 250\n",
    "for x in range(width):\n",
    "    for y in range(height):\n",
    "        if np.sqrt((x-moon_x)**2 + (y-moon_y)**2) <= moon_radius:\n",
    "            sky_image[x, y, :] = background_color\n",
    "            "
   ]
  },
  {
   "cell_type": "markdown",
   "id": "a317d170",
   "metadata": {},
   "source": [
    "Previously I drew a full moon. But I need a crescent moon. Therefore I draw another circle in background color which is overlapping the previous moon. It hides a part of the moon. "
   ]
  },
  {
   "cell_type": "code",
   "execution_count": 10,
   "id": "92100808",
   "metadata": {},
   "outputs": [
    {
     "data": {
      "image/png": "[encoded data removed]",
      "text/plain": [
       "<Figure size 576x576 with 1 Axes>"
      ]
     },
     "metadata": {
      "needs_background": "light"
     },
     "output_type": "display_data"
    }
   ],
   "source": [
    "# Display the image using matplotlib\n",
    "plt.figure(figsize=(8, 8))\n",
    "plt.imshow(sky_image)\n",
    "plt.axis(\"off\")\n",
    "\n",
    "plt.show()"
   ]
  },
  {
   "cell_type": "markdown",
   "id": "cb2128c7",
   "metadata": {},
   "source": [
    "#### So here is my generative art!! A night sky with stars, crosses and a moon..\n",
    "\n",
    "Here I use Matplotlib library to display my generated image.\n",
    "\n",
    "I used plt.figure() function to increase the plot size than the default size. Then I used imshow() function to display the generated image 'sky_image'.  \n",
    "\n",
    "The axis() function with the argument \"off\" is used to turn off the axis labels and ticks. Finally, the show() function is called to display the image.  "
   ]
  },
  {
   "cell_type": "code",
   "execution_count": 11,
   "id": "101bd356",
   "metadata": {},
   "outputs": [],
   "source": [
    "# Quit pygame\n",
    "pygame.quit()"
   ]
  },
  {
   "cell_type": "markdown",
   "id": "44154284",
   "metadata": {},
   "source": [
    "pygame.quit() is called to properly shut down the Pygame module and release all of its resources. It should be called at the end of any Pygame program to release all system resources held by Pygame."
   ]
  },
  {
   "cell_type": "markdown",
   "id": "74c58998",
   "metadata": {},
   "source": [
    "#### It's the end of the Art!! \n",
    "#### Thank you!"
   ]
  }
 ],
 "metadata": {
  "kernelspec": {
   "display_name": "Python 3 (ipykernel)",
   "language": "python",
   "name": "python3"
  },
  "language_info": {
   "codemirror_mode": {
    "name": "ipython",
    "version": 3
   },
   "file_extension": ".py",
   "mimetype": "text/x-python",
   "name": "python",
   "nbconvert_exporter": "python",
   "pygments_lexer": "ipython3",
   "version": "3.9.12"
  }
 },
 "nbformat": 4,
 "nbformat_minor": 5
}
